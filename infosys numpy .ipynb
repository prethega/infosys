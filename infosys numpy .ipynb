{
 "cells": [
  {
   "cell_type": "code",
   "execution_count": null,
   "id": "78197d9c",
   "metadata": {},
   "outputs": [],
   "source": [
    "#10*2 array form"
   ]
  },
  {
   "cell_type": "code",
   "execution_count": 21,
   "id": "173e2922",
   "metadata": {},
   "outputs": [
    {
     "name": "stdout",
     "output_type": "stream",
     "text": [
      "[[   1 6012]\n",
      " [   2 7079]\n",
      " [   3 6886]\n",
      " [   4 7230]\n",
      " [   5 4598]\n",
      " [   6 5564]\n",
      " [   7 6971]\n",
      " [   8 7763]\n",
      " [   9 8032]\n",
      " [  10 9569]]\n"
     ]
    }
   ],
   "source": [
    "import numpy as np\n",
    "\n",
    "data = np.array([\n",
    "    [1, 6012],\n",
    "    [2, 7079],\n",
    "    [3, 6886],\n",
    "    [4, 7230],\n",
    "    [5, 4598],\n",
    "    [6, 5564],\n",
    "    [7, 6971],\n",
    "    [8, 7763],\n",
    "    [9, 8032],\n",
    "    [10, 9569]\n",
    "])\n",
    "print(data)\n",
    "\n"
   ]
  },
  {
   "cell_type": "code",
   "execution_count": 22,
   "id": "4c4945d6",
   "metadata": {},
   "outputs": [],
   "source": [
    "# add 2000 steps"
   ]
  },
  {
   "cell_type": "code",
   "execution_count": 23,
   "id": "da52dbe5",
   "metadata": {},
   "outputs": [
    {
     "name": "stdout",
     "output_type": "stream",
     "text": [
      "[[    1  8012]\n",
      " [    2  9079]\n",
      " [    3  8886]\n",
      " [    4  9230]\n",
      " [    5  6598]\n",
      " [    6  7564]\n",
      " [    7  8971]\n",
      " [    8  9763]\n",
      " [    9 10032]\n",
      " [   10 11569]]\n"
     ]
    }
   ],
   "source": [
    "data[:, 1] += 2000\n",
    "print(data)"
   ]
  },
  {
   "cell_type": "code",
   "execution_count": 24,
   "id": "bf1187b0",
   "metadata": {},
   "outputs": [],
   "source": [
    "#more than 9000"
   ]
  },
  {
   "cell_type": "code",
   "execution_count": 30,
   "id": "ea86885e",
   "metadata": {},
   "outputs": [
    {
     "name": "stdout",
     "output_type": "stream",
     "text": [
      "[ 9079  9230  9763 10032 11569]\n"
     ]
    }
   ],
   "source": [
    "steps= data[data[:, 1] > 9000,1]\n",
    "print(steps)"
   ]
  },
  {
   "cell_type": "code",
   "execution_count": 26,
   "id": "34cd5c78",
   "metadata": {},
   "outputs": [],
   "source": [
    "#sort"
   ]
  },
  {
   "cell_type": "code",
   "execution_count": 28,
   "id": "37610ee2",
   "metadata": {},
   "outputs": [
    {
     "name": "stdout",
     "output_type": "stream",
     "text": [
      "[ 6598  7564  8012  8886  8971  9079  9230  9763 10032 11569]\n"
     ]
    }
   ],
   "source": [
    "sorted = np.sort(data[:, 1])\n",
    "print(sorted)"
   ]
  },
  {
   "cell_type": "code",
   "execution_count": null,
   "id": "48ff816a",
   "metadata": {},
   "outputs": [],
   "source": []
  }
 ],
 "metadata": {
  "kernelspec": {
   "display_name": "Python 3 (ipykernel)",
   "language": "python",
   "name": "python3"
  },
  "language_info": {
   "codemirror_mode": {
    "name": "ipython",
    "version": 3
   },
   "file_extension": ".py",
   "mimetype": "text/x-python",
   "name": "python",
   "nbconvert_exporter": "python",
   "pygments_lexer": "ipython3",
   "version": "3.10.9"
  }
 },
 "nbformat": 4,
 "nbformat_minor": 5
}
